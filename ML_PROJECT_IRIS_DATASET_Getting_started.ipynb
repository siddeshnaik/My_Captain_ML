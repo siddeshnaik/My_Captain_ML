{
  "nbformat": 4,
  "nbformat_minor": 0,
  "metadata": {
    "colab": {
      "name": "ML_PROJECT_Getting_started.ipynb",
      "provenance": [],
      "private_outputs": true,
      "authorship_tag": "ABX9TyPpZwCQpIL/HfrAPamp+oJt",
      "include_colab_link": true
    },
    "kernelspec": {
      "name": "python3",
      "display_name": "Python 3"
    }
  },
  "cells": [
    {
      "cell_type": "markdown",
      "metadata": {
        "id": "view-in-github",
        "colab_type": "text"
      },
      "source": [
        "<a href=\"https://colab.research.google.com/github/siddeshnaik/My_Captain_ML/blob/master/ML_PROJECT_IRIS_DATASET_Getting_started.ipynb\" target=\"_parent\"><img src=\"https://colab.research.google.com/assets/colab-badge.svg\" alt=\"Open In Colab\"/></a>"
      ]
    },
    {
      "cell_type": "code",
      "metadata": {
        "id": "Gcy1fGTUJctB",
        "colab_type": "code",
        "colab": {}
      },
      "source": [
        "import sys\n",
        "sys.version"
      ],
      "execution_count": null,
      "outputs": []
    },
    {
      "cell_type": "code",
      "metadata": {
        "id": "eRahU7ekLdw0",
        "colab_type": "code",
        "colab": {}
      },
      "source": [
        "import scipy\n",
        "scipy.__version__"
      ],
      "execution_count": null,
      "outputs": []
    },
    {
      "cell_type": "code",
      "metadata": {
        "id": "qP3Hp9sfLreq",
        "colab_type": "code",
        "colab": {}
      },
      "source": [
        "import numpy as np\n",
        "np.__version__"
      ],
      "execution_count": null,
      "outputs": []
    },
    {
      "cell_type": "code",
      "metadata": {
        "id": "SnLmjRxLLx-y",
        "colab_type": "code",
        "colab": {}
      },
      "source": [
        "import pandas as pd\n",
        "pd.__version__"
      ],
      "execution_count": null,
      "outputs": []
    },
    {
      "cell_type": "code",
      "metadata": {
        "id": "vgsWzxb3L613",
        "colab_type": "code",
        "colab": {}
      },
      "source": [
        "import matplotlib\n",
        "import matplotlib.pyplot as plt\n",
        "matplotlib.__version__"
      ],
      "execution_count": null,
      "outputs": []
    },
    {
      "cell_type": "code",
      "metadata": {
        "id": "9H38Pw9zMGa6",
        "colab_type": "code",
        "colab": {}
      },
      "source": [
        "import sklearn\n",
        "sklearn.__version__"
      ],
      "execution_count": null,
      "outputs": []
    },
    {
      "cell_type": "code",
      "metadata": {
        "id": "Z7DOMo2cMYMb",
        "colab_type": "code",
        "colab": {}
      },
      "source": [
        "from pandas.plotting import scatter_matrix\n",
        "from sklearn.model_selection import train_test_split\n",
        "from sklearn.model_selection import cross_val_score, StratifiedKFold\n",
        "from sklearn.metrics import classification_report, confusion_matrix, accuracy_score\n",
        "from sklearn.linear_model import LogisticRegression\n",
        "from sklearn.tree import DecisionTreeClassifier\n",
        "from sklearn.ensemble import RandomForestClassifier\n",
        "from sklearn.neighbors import KNeighborsClassifier\n",
        "from sklearn.discriminant_analysis import LinearDiscriminantAnalysis\n",
        "from sklearn.naive_bayes import GaussianNB\n",
        "from sklearn.svm import SVC\n",
        "from sklearn import model_selection\n",
        "from sklearn.ensemble import VotingClassifier"
      ],
      "execution_count": null,
      "outputs": []
    },
    {
      "cell_type": "code",
      "metadata": {
        "id": "ZNgjT-1GO4Nl",
        "colab_type": "code",
        "colab": {}
      },
      "source": [
        "from sklearn import datasets\n",
        "data_df= sklearn.datasets.load_iris()"
      ],
      "execution_count": null,
      "outputs": []
    },
    {
      "cell_type": "code",
      "metadata": {
        "id": "mBWfskKpPVEG",
        "colab_type": "code",
        "colab": {}
      },
      "source": [
        "data_set=pd.DataFrame(data=data_df.data, columns=data_df.feature_names)"
      ],
      "execution_count": null,
      "outputs": []
    },
    {
      "cell_type": "code",
      "metadata": {
        "id": "TVXjz-noQCaj",
        "colab_type": "code",
        "colab": {}
      },
      "source": [
        "data_set[\"Class\"]=data_df.target"
      ],
      "execution_count": null,
      "outputs": []
    },
    {
      "cell_type": "code",
      "metadata": {
        "id": "xs_9hJW3REiP",
        "colab_type": "code",
        "colab": {}
      },
      "source": [
        "data_set"
      ],
      "execution_count": null,
      "outputs": []
    },
    {
      "cell_type": "code",
      "metadata": {
        "id": "_IdAfq-PSbzO",
        "colab_type": "code",
        "colab": {}
      },
      "source": [
        "data_df.target_names"
      ],
      "execution_count": null,
      "outputs": []
    },
    {
      "cell_type": "code",
      "metadata": {
        "id": "9SZCZAAYSjkS",
        "colab_type": "code",
        "colab": {}
      },
      "source": [
        "data_set[\"Class_Name\"]=data_set.Class.replace(0,\"setosa\").replace(1,\"versicolor\").replace(2,\"virginica\")"
      ],
      "execution_count": null,
      "outputs": []
    },
    {
      "cell_type": "code",
      "metadata": {
        "id": "9OVfrBh_SpyR",
        "colab_type": "code",
        "colab": {}
      },
      "source": [
        "data_set"
      ],
      "execution_count": null,
      "outputs": []
    },
    {
      "cell_type": "code",
      "metadata": {
        "id": "4H2ArHAQVej4",
        "colab_type": "code",
        "colab": {}
      },
      "source": [
        "# OR\n",
        "data_set_1=pd.read_csv(r\"/content/Iris.csv\")\n",
        "data_set_1"
      ],
      "execution_count": null,
      "outputs": []
    },
    {
      "cell_type": "code",
      "metadata": {
        "id": "ccTRlT1ZWcYM",
        "colab_type": "code",
        "colab": {}
      },
      "source": [
        "# OR\n",
        "url = \"https://raw.githubusercontent.com/jbrownlee/Datasets/master/iris.csv\"\n",
        "names = [\"sepal-length\",\"sepal-width\",\"petal-length\",\"petal-width\",\"Class\"]\n",
        "dataset=pd.read_csv(url,names=names)"
      ],
      "execution_count": null,
      "outputs": []
    },
    {
      "cell_type": "code",
      "metadata": {
        "id": "agiptAwvXoqJ",
        "colab_type": "code",
        "colab": {}
      },
      "source": [
        "dataset"
      ],
      "execution_count": null,
      "outputs": []
    },
    {
      "cell_type": "code",
      "metadata": {
        "id": "Tw3U3FclXqXQ",
        "colab_type": "code",
        "colab": {}
      },
      "source": [
        "# statistical summary\n",
        "dataset.describe(include=\"all\")"
      ],
      "execution_count": null,
      "outputs": []
    },
    {
      "cell_type": "code",
      "metadata": {
        "id": "A917E-5SX4Nr",
        "colab_type": "code",
        "colab": {}
      },
      "source": [
        "#class distribution\n",
        "print(dataset.groupby(\"Class\").size())\n",
        "dataset.info()\n"
      ],
      "execution_count": null,
      "outputs": []
    },
    {
      "cell_type": "code",
      "metadata": {
        "id": "eqfRdCSxX8N1",
        "colab_type": "code",
        "colab": {}
      },
      "source": [
        "# univariate plots box and whisker plots\n",
        "dataset.plot(kind=\"box\", subplots=True, layout=(2,2), sharex=False,sharey=False)"
      ],
      "execution_count": null,
      "outputs": []
    },
    {
      "cell_type": "code",
      "metadata": {
        "id": "Nv-eeln-YxEy",
        "colab_type": "code",
        "colab": {}
      },
      "source": [
        "dataset.plot(kind=\"box\")"
      ],
      "execution_count": null,
      "outputs": []
    },
    {
      "cell_type": "code",
      "metadata": {
        "id": "AumGLMsSY6xk",
        "colab_type": "code",
        "colab": {}
      },
      "source": [
        "#histogram of the variable\n",
        "dataset.hist()\n",
        "plt.show()"
      ],
      "execution_count": null,
      "outputs": []
    },
    {
      "cell_type": "code",
      "metadata": {
        "id": "uqMLHtGzZJHU",
        "colab_type": "code",
        "colab": {}
      },
      "source": [
        "# multivariate plot\n",
        "scatter_matrix(dataset)\n",
        "plt.show() "
      ],
      "execution_count": null,
      "outputs": []
    },
    {
      "cell_type": "code",
      "metadata": {
        "id": "JtT0oxNPZk2x",
        "colab_type": "code",
        "colab": {}
      },
      "source": [
        "# creating a validation datasets\n",
        "# splitting dataset\n",
        "array_1 = dataset.values\n",
        "array_1[:10]"
      ],
      "execution_count": null,
      "outputs": []
    },
    {
      "cell_type": "code",
      "metadata": {
        "id": "j4tRRBm-avwi",
        "colab_type": "code",
        "colab": {}
      },
      "source": [
        "X=array_1[:,:4]\n",
        "X[:10]"
      ],
      "execution_count": null,
      "outputs": []
    },
    {
      "cell_type": "code",
      "metadata": {
        "id": "0YH69swibJPL",
        "colab_type": "code",
        "colab": {}
      },
      "source": [
        "y = array_1[:,4]\n",
        "y[:10]"
      ],
      "execution_count": null,
      "outputs": []
    },
    {
      "cell_type": "code",
      "metadata": {
        "id": "Nh_aj6fHbUF1",
        "colab_type": "code",
        "colab": {}
      },
      "source": [
        "X_train,X_test,Y_train,Y_test= train_test_split(X, y, test_size=0.2, random_state=4)\n",
        "print(X_train[:5])\n",
        "print(Y_train[:5])"
      ],
      "execution_count": null,
      "outputs": []
    },
    {
      "cell_type": "code",
      "metadata": {
        "id": "IzWEZWRBb6ME",
        "colab_type": "code",
        "colab": {}
      },
      "source": [
        "# logistic regression\n",
        "#linear discriminant analysis\n",
        "# k-nearest neighbors\n",
        "# classification and regression trees\n",
        "# gaussian navie bayes\n",
        "# support vector machine\n",
        "\n",
        "# building model\n",
        "models = []\n",
        "models.append((\"LR\",LogisticRegression(solver=\"liblinear\", multi_class=\"ovr\")))\n",
        "models.append((\"LDA\", LinearDiscriminantAnalysis()))\n",
        "models.append((\"KNN\", KNeighborsClassifier()))\n",
        "models.append((\"NB\", GaussianNB()))\n",
        "models.append((\"SVM\", SVC(gamma=\"auto\")))"
      ],
      "execution_count": null,
      "outputs": []
    },
    {
      "cell_type": "code",
      "metadata": {
        "id": "TLYXU4l_fSPV",
        "colab_type": "code",
        "colab": {}
      },
      "source": [
        "models"
      ],
      "execution_count": null,
      "outputs": []
    },
    {
      "cell_type": "code",
      "metadata": {
        "id": "8vMS7wb8fWLL",
        "colab_type": "code",
        "colab": {}
      },
      "source": [
        "# evaluate the created models\n",
        "results = []\n",
        "names_arr = []\n",
        "for name, model in models:\n",
        "    kfold = StratifiedKFold(n_splits=10, random_state=4)\n",
        "    cv_results = cross_val_score(model, X_train, Y_train, cv= kfold, scoring=\"accuracy\") \n",
        "    results.append(cv_results)\n",
        "    names_arr.append(name)\n",
        "    print(\"%s: %f (%f)\" % (name, cv_results.mean(), cv_results.std()))"
      ],
      "execution_count": null,
      "outputs": []
    },
    {
      "cell_type": "code",
      "metadata": {
        "id": "vlCAl28uhFyd",
        "colab_type": "code",
        "colab": {}
      },
      "source": [
        "# compare our models\n",
        "plt.boxplot(results,labels=names_arr)\n",
        "plt.title(\"Algorithm Comparision\")\n",
        "plt.show()"
      ],
      "execution_count": null,
      "outputs": []
    },
    {
      "cell_type": "code",
      "metadata": {
        "id": "AZ9gSzUhhvLL",
        "colab_type": "code",
        "colab": {}
      },
      "source": [
        "# make prediction on svm\n",
        "model = SVC(gamma=\"auto\")\n",
        "model.fit(X_train,Y_train)\n",
        "pred = model.predict(X_test)\n",
        "print(X_train[:10],\"\\n\", \"\\n\",X_test[:10])\n",
        "print(Y_train[:10],\"\\n\", \"\\n\",Y_test[:10])\n",
        "print(pred[:10])\n",
        "print(Y_test[:10])"
      ],
      "execution_count": null,
      "outputs": []
    },
    {
      "cell_type": "code",
      "metadata": {
        "id": "udyW1fediR2x",
        "colab_type": "code",
        "colab": {}
      },
      "source": [
        "#evalute our predictions\n",
        "print(accuracy_score(Y_test, pred))\n",
        "print(confusion_matrix(Y_test, pred))\n",
        "print(classification_report(Y_test, pred))"
      ],
      "execution_count": null,
      "outputs": []
    },
    {
      "cell_type": "code",
      "metadata": {
        "id": "TJ-iHPloixV0",
        "colab_type": "code",
        "colab": {}
      },
      "source": [
        ""
      ],
      "execution_count": null,
      "outputs": []
    }
  ]
}