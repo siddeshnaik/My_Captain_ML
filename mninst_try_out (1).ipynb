{
 "cells": [
  {
   "cell_type": "code",
   "execution_count": null,
   "metadata": {
    "colab": {},
    "colab_type": "code",
    "id": "-qUb_JQgpTva"
   },
   "outputs": [],
   "source": [
    "#run in colab since i have used the defalut sample example of mnist in colab\n",
    "#if a part of a program is commented than there are some errors in the program\n",
    "import numpy as np\n",
    "import pandas as pd\n",
    "!pip install sklearn"
   ]
  },
  {
   "cell_type": "code",
   "execution_count": null,
   "metadata": {
    "colab": {},
    "colab_type": "code",
    "id": "D3NWIDEHpuuQ"
   },
   "outputs": [],
   "source": [
    "from matplotlib import pyplot as plt \n",
    "from sklearn.ensemble import RandomForestClassifier\n",
    "from sklearn import tree \n",
    "from sklearn import naive_bayes\n",
    "from sklearn import neighbors\n",
    "from sklearn.model_selection import train_test_split\n",
    "%matplotlib inline"
   ]
  },
  {
   "cell_type": "code",
   "execution_count": null,
   "metadata": {
    "colab": {},
    "colab_type": "code",
    "id": "ocpfInJft02U"
   },
   "outputs": [],
   "source": [
    "data=pd.read_csv(r\"/content/sample_data/mnist_train_small.csv\")"
   ]
  },
  {
   "cell_type": "code",
   "execution_count": null,
   "metadata": {
    "colab": {},
    "colab_type": "code",
    "id": "3WVH_ZWeurE6"
   },
   "outputs": [],
   "source": [
    "data"
   ]
  },
  {
   "cell_type": "code",
   "execution_count": null,
   "metadata": {
    "colab": {},
    "colab_type": "code",
    "id": "O6olBQE2usx8"
   },
   "outputs": [],
   "source": [
    "x=data.iloc[:,1:] # .values converts into a array instead of data frame\n",
    "x"
   ]
  },
  {
   "cell_type": "code",
   "execution_count": null,
   "metadata": {
    "colab": {},
    "colab_type": "code",
    "id": "HG66p5_GxQN0"
   },
   "outputs": [],
   "source": [
    "y=data.iloc[:,:1]"
   ]
  },
  {
   "cell_type": "code",
   "execution_count": null,
   "metadata": {
    "colab": {},
    "colab_type": "code",
    "id": "1WhyqSmlxleV"
   },
   "outputs": [],
   "source": [
    "y #storing all the lables in y variable"
   ]
  },
  {
   "cell_type": "code",
   "execution_count": null,
   "metadata": {
    "colab": {},
    "colab_type": "code",
    "id": "etE3tVYSxmZg"
   },
   "outputs": [],
   "source": [
    "#displaying on images\n",
    "a=data.iloc[2,1:].values # .values makes it a array type datatype instead of data frame\n",
    "a"
   ]
  },
  {
   "cell_type": "code",
   "execution_count": null,
   "metadata": {
    "colab": {},
    "colab_type": "code",
    "id": "2CMwWn7Lzmm9"
   },
   "outputs": [],
   "source": [
    "#now reshaping the pixle data to view it in matplotlib \n",
    "a=a.reshape(28,28).astype(\"uint8\")"
   ]
  },
  {
   "cell_type": "code",
   "execution_count": null,
   "metadata": {
    "colab": {},
    "colab_type": "code",
    "id": "9jgQOByEz1SK"
   },
   "outputs": [],
   "source": [
    "#plotting\n",
    "plt.imshow(a)"
   ]
  },
  {
   "cell_type": "code",
   "execution_count": null,
   "metadata": {
    "colab": {},
    "colab_type": "code",
    "id": "ThUgaKrmz4Iw"
   },
   "outputs": [],
   "source": [
    "#spliting data into train ,test data \n",
    "x_train,x_test,y_train,y_test = train_test_split(x,y,test_size = 0.2 ,random_state=4)"
   ]
  },
  {
   "cell_type": "code",
   "execution_count": null,
   "metadata": {
    "colab": {},
    "colab_type": "code",
    "id": "f1L1zMnV02Kb"
   },
   "outputs": [],
   "source": [
    "x_train"
   ]
  },
  {
   "cell_type": "code",
   "execution_count": null,
   "metadata": {
    "colab": {},
    "colab_type": "code",
    "id": "pSmp_9Yl030m"
   },
   "outputs": [],
   "source": [
    "y_train"
   ]
  },
  {
   "cell_type": "markdown",
   "metadata": {
    "colab_type": "text",
    "id": "6ySUen8qp5sN"
   },
   "source": [
    "# trying for \n",
    "- decision tree\n",
    "- naive bayes algorithm\n",
    "- k-nearest neighbor\n",
    "- random forest "
   ]
  },
  {
   "cell_type": "markdown",
   "metadata": {
    "colab_type": "text",
    "id": "XxMiRtUnCZVS"
   },
   "source": [
    "# modeling the randomforest classifier"
   ]
  },
  {
   "cell_type": "code",
   "execution_count": null,
   "metadata": {
    "colab": {},
    "colab_type": "code",
    "id": "BNMVykAY06Xc"
   },
   "outputs": [],
   "source": [
    "# modeling the randomforest classifier\n",
    "rf=RandomForestClassifier(n_estimators=100)\n",
    "\n",
    "# fitting the model\n",
    "rf.fit(x_train,y_train)\n",
    "pred = rf.predict(x_test)\n",
    "print(pred)"
   ]
  },
  {
   "cell_type": "code",
   "execution_count": null,
   "metadata": {
    "colab": {},
    "colab_type": "code",
    "id": "DE2XeQ2j1uAm"
   },
   "outputs": [],
   "source": [
    "print(y_test)"
   ]
  },
  {
   "cell_type": "code",
   "execution_count": null,
   "metadata": {
    "colab": {},
    "colab_type": "code",
    "id": "KzER1-wq1xu9"
   },
   "outputs": [],
   "source": [
    "#cheking a random value\n",
    "print(\"lable:\",y_test.iloc[3])\n",
    "print(\"predicted value:\",pred[3])"
   ]
  },
  {
   "cell_type": "code",
   "execution_count": null,
   "metadata": {
    "colab": {},
    "colab_type": "code",
    "id": "W3gxKHcB2ODf"
   },
   "outputs": [],
   "source": [
    "count = 0\n",
    "#checking predition accuracy\n",
    "a=y_test.values\n",
    "for i in range(len(x_test)):\n",
    "    if pred[i]==a[i]:\n",
    "        count=count+1\n",
    "\n",
    "acc = (count/len(x_test))*100\n",
    "print(\"accuracy:\",acc)"
   ]
  },
  {
   "cell_type": "markdown",
   "metadata": {
    "colab_type": "text",
    "id": "s0xHW6zVCTCB"
   },
   "source": [
    "#modeling with decision tree classifier\n"
   ]
  },
  {
   "cell_type": "code",
   "execution_count": null,
   "metadata": {
    "colab": {},
    "colab_type": "code",
    "id": "d_MT9Wuy3rZE"
   },
   "outputs": [],
   "source": [
    "#modeling with decision tree classifier\n",
    "from sklearn import tree \n",
    "dt=tree.DecisionTreeClassifier()\n",
    "dt.fit(x_train,y_train)"
   ]
  },
  {
   "cell_type": "code",
   "execution_count": null,
   "metadata": {
    "colab": {},
    "colab_type": "code",
    "id": "_YAqd3ZQ5VVm"
   },
   "outputs": [],
   "source": [
    "pred=dt.predict(x_test)"
   ]
  },
  {
   "cell_type": "code",
   "execution_count": null,
   "metadata": {
    "colab": {},
    "colab_type": "code",
    "id": "IkFHva5D5jzf"
   },
   "outputs": [],
   "source": [
    "pred"
   ]
  },
  {
   "cell_type": "code",
   "execution_count": null,
   "metadata": {
    "colab": {},
    "colab_type": "code",
    "id": "GHyssUXi7GcZ"
   },
   "outputs": [],
   "source": [
    "count = 0\n",
    "#checking predition accuracy\n",
    "a=y_test.values\n",
    "for i in range(len(x_test)):\n",
    "    if pred[i]==a[i]:\n",
    "        count=count+1\n",
    "\n",
    "acc = (count/len(x_test))*100\n",
    "print(\"accuracy:\",acc)"
   ]
  },
  {
   "cell_type": "markdown",
   "metadata": {
    "colab_type": "text",
    "id": "VbJW77wgCqTP"
   },
   "source": [
    "#naive bayes algorithm"
   ]
  },
  {
   "cell_type": "code",
   "execution_count": null,
   "metadata": {
    "colab": {},
    "colab_type": "code",
    "id": "eOtuqrzA7NMK"
   },
   "outputs": [],
   "source": [
    "#naive bayes algorithm\n",
    "from sklearn import naive_bayes\n",
    "#sklearn.naive_bayes.BernoulliNB\n",
    "nbb=naive_bayes.BernoulliNB()\n",
    "nbb.fit(x_train,y_train)\n",
    "pred=nbb.predict(x_test)\n",
    "count = 0\n",
    "#checking predition accuracy\n",
    "a=y_test.values\n",
    "for i in range(len(x_test)):\n",
    "    if pred[i]==a[i]:\n",
    "        count=count+1\n",
    "\n",
    "acc = (count/len(x_test))*100\n",
    "print(\"accuracy:\",acc)"
   ]
  },
  {
   "cell_type": "code",
   "execution_count": null,
   "metadata": {
    "colab": {},
    "colab_type": "code",
    "id": "i2iBDAvp9RvY"
   },
   "outputs": [],
   "source": [
    "#naive_bayes.ComplementNB\n",
    "nbc=naive_bayes.ComplementNB()\n",
    "nbc.fit(x_train,y_train)\n",
    "pred=nbc.predict(x_test)\n",
    "count = 0\n",
    "#checking predition accuracy\n",
    "a=y_test.values\n",
    "for i in range(len(x_test)):\n",
    "    if pred[i]==a[i]:\n",
    "        count=count+1\n",
    "\n",
    "acc = (count/len(x_test))*100\n",
    "print(\"accuracy:\",acc)"
   ]
  },
  {
   "cell_type": "code",
   "execution_count": null,
   "metadata": {
    "colab": {},
    "colab_type": "code",
    "id": "EtU9UtcH779y"
   },
   "outputs": [],
   "source": [
    "# naive_bayes.CategoricalNB\n",
    "# nbc1=naive_bayes.CategoricalNB()\n",
    "# nbc1.fit(x_train,y_train)\n",
    "# pred=nbc1.predict(x_test)\n",
    "# count = 0\n",
    "# #checking predition accuracy\n",
    "# a=y_test.values\n",
    "# for i in range(len(x_test)):\n",
    "#     if pred[i]==a[i]:\n",
    "#         count=count+1\n",
    "\n",
    "# acc = (count/len(x_test))*100\n",
    "# print(\"accuracy:\",acc)"
   ]
  },
  {
   "cell_type": "code",
   "execution_count": null,
   "metadata": {
    "colab": {},
    "colab_type": "code",
    "id": "8yBynlS1-64d"
   },
   "outputs": [],
   "source": [
    "# naive_bayes.GaussianNB()\n",
    "nbg=naive_bayes.GaussianNB()\n",
    "nbg.fit(x_train,y_train)\n",
    "pred=nbg.predict(x_test)\n",
    "count = 0\n",
    "#checking predition accuracy\n",
    "a=y_test.values\n",
    "for i in range(len(x_test)):\n",
    "    if pred[i]==a[i]:\n",
    "        count=count+1\n",
    "\n",
    "acc = (count/len(x_test))*100\n",
    "print(\"accuracy:\",acc)"
   ]
  },
  {
   "cell_type": "code",
   "execution_count": null,
   "metadata": {
    "colab": {},
    "colab_type": "code",
    "id": "WPob_bTo_ej5"
   },
   "outputs": [],
   "source": [
    "#naive_bayes.MultinomialNB()\n",
    "# nbm=naive_bayes.MultinomialNB()\n",
    "# nbm.fit(x_test,y_test)\n",
    "# pred=nbm.predict(x_test)\n",
    "# count = 0\n",
    "# #checking predition accuracy\n",
    "# a=y_test.values\n",
    "# for i in range(len(x_test)):\n",
    "#     if pred[i]==a[i]:\n",
    "#         count=count+1\n",
    "\n",
    "# acc = (count/len(x_test))*100\n",
    "# print(\"accuracy:\",acc)"
   ]
  },
  {
   "cell_type": "markdown",
   "metadata": {
    "colab_type": "text",
    "id": "y6iNI85DCvit"
   },
   "source": [
    "# from sklearn import neighbors"
   ]
  },
  {
   "cell_type": "code",
   "execution_count": null,
   "metadata": {
    "colab": {},
    "colab_type": "code",
    "id": "InfNvfiH_wi3"
   },
   "outputs": [],
   "source": [
    "# from sklearn import neighbors\n",
    "# #neighbors.KNeighborsClassifier\n",
    "# knc=neighbors.KNeighborsClassifier()\n",
    "# knc.fit(x_train,y_train)\n",
    "# pred=knc.predict(x_test)\n",
    "# count = 0\n",
    "# #checking predition accuracy\n",
    "# a=y_test.values\n",
    "# for i in range(len(x_test)):\n",
    "#     if pred[i]==a[i]:\n",
    "#         count=count+1\n",
    "\n",
    "# acc = (count/len(x_test))*100\n",
    "# print(\"accuracy:\",acc)"
   ]
  },
  {
   "cell_type": "code",
   "execution_count": null,
   "metadata": {
    "colab": {},
    "colab_type": "code",
    "id": "eqMpa9uHApbx"
   },
   "outputs": [],
   "source": []
  }
 ],
 "metadata": {
  "colab": {
   "collapsed_sections": [],
   "name": "mninst_try_out.ipynb",
   "private_outputs": true,
   "provenance": []
  },
  "kernelspec": {
   "display_name": "Python 3",
   "language": "python",
   "name": "python3"
  },
  "language_info": {
   "codemirror_mode": {
    "name": "ipython",
    "version": 3
   },
   "file_extension": ".py",
   "mimetype": "text/x-python",
   "name": "python",
   "nbconvert_exporter": "python",
   "pygments_lexer": "ipython3",
   "version": "3.7.7"
  }
 },
 "nbformat": 4,
 "nbformat_minor": 1
}
